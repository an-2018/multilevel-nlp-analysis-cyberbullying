{
 "cells": [
  {
   "metadata": {},
   "cell_type": "markdown",
   "source": "# Pipeline for Cyberbullying Text Analysis With Gemini API",
   "id": "5667a9c38401b9fc"
  },
  {
   "metadata": {},
   "cell_type": "markdown",
   "source": [
    "This notebook demonstrate the integration of Gemini API into an NLP pipeline for cyberbullying detecttion and analysis, using datasets like HateSpeech and OLID.\n",
    "\n",
    "The workflow covers the following steps:\n",
    "- Data Preprocessing\n",
    "- Data Splitting, Balancing and Unifying Datasets into a Common Format\n",
    "- Gemini API Integration\n",
    "- Fine-tuning\n",
    "- Feature extraction\n",
    "- visualization and interpretability\n",
    "- Comparisons and Analysis of different methods and aproaches (TF-IDF, BERT, RoBERTa...) with Gemini's capabilities in the context of detecting toxic or hate speech content."
   ],
   "id": "aac91e3d0228b908"
  },
  {
   "metadata": {
    "ExecuteTime": {
     "end_time": "2025-04-15T09:11:20.345234Z",
     "start_time": "2025-04-15T09:10:59.551931Z"
    }
   },
   "cell_type": "code",
   "source": "!pip install -q google-generativeai",
   "id": "fd4ae3cf0f99544a",
   "execution_count": 69,
   "outputs": []
  },
  {
   "metadata": {
    "ExecuteTime": {
     "end_time": "2025-04-15T07:11:11.700275Z",
     "start_time": "2025-04-15T07:11:06.445228Z"
    }
   },
   "cell_type": "code",
   "source": [
    "# !pip install google-genai\n",
    "!pip install python-dotenv"
   ],
   "id": "b26bbc5f4b41a445",
   "execution_count": 2,
   "outputs": []
  },
  {
   "metadata": {
    "ExecuteTime": {
     "end_time": "2025-04-15T09:10:01.503801Z",
     "start_time": "2025-04-15T09:10:01.485088Z"
    }
   },
   "cell_type": "code",
   "source": [
    "from dotenv import dotenv_values\n",
    "import os\n",
    "import pandas as pd\n",
    "\n",
    "config = dotenv_values(\".env\")"
   ],
   "id": "67063d119d245814",
   "execution_count": 66,
   "outputs": []
  },
  {
   "metadata": {
    "ExecuteTime": {
     "end_time": "2025-04-15T09:11:42.707455Z",
     "start_time": "2025-04-15T09:11:42.689041Z"
    }
   },
   "cell_type": "code",
   "source": [
    "# from google import genai\n",
    "import google.generativeai as genai\n",
    "api_key=config[\"GEMINI_API_KEY\"]\n",
    "\n",
    "# client = genai.Client(api_key=api_key)"
   ],
   "id": "20d32b159ad99a27",
   "execution_count": 72,
   "outputs": []
  },
  {
   "metadata": {
    "ExecuteTime": {
     "end_time": "2025-04-15T09:12:38.201489Z",
     "start_time": "2025-04-15T09:12:38.182376Z"
    }
   },
   "cell_type": "code",
   "source": "genai.configure(api_key=api_key)",
   "id": "c6ba0f13471465ba",
   "execution_count": 74,
   "outputs": []
  },
  {
   "metadata": {
    "ExecuteTime": {
     "end_time": "2025-04-15T07:14:22.663497Z",
     "start_time": "2025-04-15T07:14:22.445264Z"
    }
   },
   "cell_type": "code",
   "source": [
    "for model_info in client.models.list():\n",
    "    print(model_info.name)"
   ],
   "id": "1f833d09bb5c504c",
   "execution_count": 7,
   "outputs": []
  },
  {
   "metadata": {
    "ExecuteTime": {
     "end_time": "2025-04-15T09:12:41.362183Z",
     "start_time": "2025-04-15T09:12:40.430705Z"
    }
   },
   "cell_type": "code",
   "source": [
    "for i, m in zip(range(5), genai.list_tuned_models()):\n",
    "    print(m.name)"
   ],
   "id": "7cd55aa305063f7e",
   "execution_count": 75,
   "outputs": []
  },
  {
   "metadata": {
    "ExecuteTime": {
     "end_time": "2025-04-15T09:13:20.572312Z",
     "start_time": "2025-04-15T09:13:20.438703Z"
    }
   },
   "cell_type": "code",
   "source": [
    "base_model = [\n",
    "    m for m in genai.list_models()\n",
    "    if \"createTunedModel\" in m.supported_generation_methods and\n",
    "       \"flash\" in m.name][0]\n",
    "base_model# model = \"gemini-2.5-pro-exp-03-25\""
   ],
   "id": "447b4d90ea734914",
   "execution_count": 76,
   "outputs": []
  },
  {
   "metadata": {
    "ExecuteTime": {
     "end_time": "2025-04-15T09:14:45.407448Z",
     "start_time": "2025-04-15T09:14:44.107878Z"
    }
   },
   "cell_type": "code",
   "source": [
    "import random\n",
    "\n",
    "name = f'generate-num-{random.randint(0,10000)}'\n",
    "operation = genai.create_tuned_model(\n",
    "    # You can use a tuned model here too. Set `source_model=\"tunedModels/...\"`\n",
    "    source_model=base_model.name,\n",
    "    training_data=[\n",
    "        {\n",
    "            'text_input': '1',\n",
    "            'output': '2',\n",
    "        },{\n",
    "            'text_input': '3',\n",
    "            'output': '4',\n",
    "        },{\n",
    "            'text_input': '-3',\n",
    "            'output': '-2',\n",
    "        },{\n",
    "            'text_input': 'twenty two',\n",
    "            'output': 'twenty three',\n",
    "        },{\n",
    "            'text_input': 'two hundred',\n",
    "            'output': 'two hundred one',\n",
    "        },{\n",
    "            'text_input': 'ninety nine',\n",
    "            'output': 'one hundred',\n",
    "        },{\n",
    "            'text_input': '8',\n",
    "            'output': '9',\n",
    "        },{\n",
    "            'text_input': '-98',\n",
    "            'output': '-97',\n",
    "        },{\n",
    "            'text_input': '1,000',\n",
    "            'output': '1,001',\n",
    "        },{\n",
    "            'text_input': '10,100,000',\n",
    "            'output': '10,100,001',\n",
    "        },{\n",
    "            'text_input': 'thirteen',\n",
    "            'output': 'fourteen',\n",
    "        },{\n",
    "            'text_input': 'eighty',\n",
    "            'output': 'eighty one',\n",
    "        },{\n",
    "            'text_input': 'one',\n",
    "            'output': 'two',\n",
    "        },{\n",
    "            'text_input': 'three',\n",
    "            'output': 'four',\n",
    "        },{\n",
    "            'text_input': 'seven',\n",
    "            'output': 'eight',\n",
    "        }\n",
    "    ],\n",
    "    id = name,\n",
    "    epoch_count = 100,\n",
    "    batch_size=4,\n",
    "    learning_rate=0.001,\n",
    ")"
   ],
   "id": "9e4a3e19dff2aef9",
   "execution_count": 78,
   "outputs": []
  },
  {
   "metadata": {
    "ExecuteTime": {
     "end_time": "2025-04-15T09:14:49.936879Z",
     "start_time": "2025-04-15T09:14:49.436469Z"
    }
   },
   "cell_type": "code",
   "source": [
    "model = genai.get_tuned_model(f'tunedModels/{name}')\n",
    "\n",
    "model"
   ],
   "id": "125247d48403da15",
   "execution_count": 79,
   "outputs": []
  },
  {
   "metadata": {
    "ExecuteTime": {
     "end_time": "2025-04-15T09:56:51.330180Z",
     "start_time": "2025-04-15T09:56:51.305336Z"
    }
   },
   "cell_type": "code",
   "source": "model.state",
   "id": "46a3fa0d69e9a645",
   "execution_count": 86,
   "outputs": []
  },
  {
   "metadata": {
    "ExecuteTime": {
     "end_time": "2025-04-15T09:20:34.432650Z",
     "start_time": "2025-04-15T09:20:34.421531Z"
    }
   },
   "cell_type": "code",
   "source": "operation.metadata",
   "id": "41fdf921e1b7e647",
   "execution_count": 84,
   "outputs": []
  },
  {
   "metadata": {
    "ExecuteTime": {
     "end_time": "2025-04-15T09:56:48.481719Z",
     "start_time": "2025-04-15T09:20:35.033048Z"
    }
   },
   "cell_type": "code",
   "source": [
    "import time\n",
    "\n",
    "for status in operation.wait_bar():\n",
    "    time.sleep(30)"
   ],
   "id": "973ac0a120a20f19",
   "execution_count": 85,
   "outputs": []
  },
  {
   "metadata": {},
   "cell_type": "code",
   "execution_count": null,
   "source": "# operation.cancel()",
   "id": "a3f024edce0bfd71",
   "outputs": []
  },
  {
   "metadata": {
    "ExecuteTime": {
     "end_time": "2025-04-15T09:20:25.895021Z",
     "start_time": "2025-04-15T09:20:25.893886Z"
    }
   },
   "cell_type": "code",
   "source": [
    "import pandas as pd\n",
    "import seaborn as sns\n",
    "\n",
    "model = operation.result()\n",
    "\n",
    "snapshots = pd.DataFrame(model.tuning_task.snapshots)\n",
    "\n",
    "sns.lineplot(data=snapshots, x = 'epoch', y='mean_loss')\n"
   ],
   "id": "bbc51724894c0139",
   "execution_count": null,
   "outputs": []
  },
  {
   "metadata": {},
   "cell_type": "markdown",
   "source": "## Fine-Tuning Gemini on Toxic Language Data",
   "id": "d73196b88e4acea6"
  },
  {
   "metadata": {},
   "cell_type": "markdown",
   "source": [
    "We would like to conduct 2 eperiments:\n",
    "1. We provide the texts with good and bad labels and fine-tune the model for classification of hate speech.\n",
    "2. We provide the texts with their labels, and additionally we provide the n-grams and its TF-IDF scores and fine-tune the model for classification of hate speech."
   ],
   "id": "58366ee46337b01d"
  },
  {
   "metadata": {},
   "cell_type": "markdown",
   "source": [
    "Fine-tuning allows adapting Gemini to specific tasks like cyberbullying detection. Google’s API supports supervised fine-tuning by providing a custom dataset of input-output pairs.\n",
    "\n",
    "https://ai.google.dev/gemini-api/docs/model-tuning#:~:text=Format\n",
    "\n",
    "https://ai.google.dev/gemini-api/docs/model-tuning/tutorial?lang=python#:~:text=training_dataset%3Dtypes.TuningDataset%28%20examples%3D,tune"
   ],
   "id": "161c19bdcec1b996"
  },
  {
   "metadata": {},
   "cell_type": "markdown",
   "source": [
    "Gemini fine-tuning currently requires prompt-response style data (single-turn examples);\n",
    "\n",
    "For a classification task (toxic vs not toxic), a common approach is to supply the toxic text as the input and a desired label or outcome as the output. For example, the training set might consist of entries like ```{\"text_input\": \"You are an idiot\", \"output\": \"toxic\"}``` and ```{\"text_input\": \"I love puppies\", \"output\": \"not toxic\"}```."
   ],
   "id": "4224fdde4cd3f1e0"
  },
  {
   "metadata": {
    "ExecuteTime": {
     "end_time": "2025-04-15T07:25:27.729393Z",
     "start_time": "2025-04-15T07:25:27.715220Z"
    }
   },
   "cell_type": "code",
   "source": "## Data preparation",
   "id": "e6b61140d2a07d0",
   "execution_count": 13,
   "outputs": []
  },
  {
   "metadata": {
    "ExecuteTime": {
     "end_time": "2025-04-15T07:45:23.743566Z",
     "start_time": "2025-04-15T07:45:23.698483Z"
    }
   },
   "cell_type": "code",
   "source": [
    "data = pd.read_csv(\"data/balanced-merged-data.csv\")\n",
    "good_ngrams_df = pd.read_csv(\"data/top_good_ngrams.csv\")\n",
    "bad_ngrams_df = pd.read_csv(\"data/top_bad_ngrams.csv\")"
   ],
   "id": "2b864f897942199d",
   "execution_count": 14,
   "outputs": []
  },
  {
   "metadata": {
    "ExecuteTime": {
     "end_time": "2025-04-15T07:59:22.018334Z",
     "start_time": "2025-04-15T07:59:22.002321Z"
    }
   },
   "cell_type": "code",
   "source": "good_ngrams_df.head()",
   "id": "810ad07467cb9994",
   "execution_count": 19,
   "outputs": []
  },
  {
   "metadata": {
    "ExecuteTime": {
     "end_time": "2025-04-15T08:00:23.717936Z",
     "start_time": "2025-04-15T08:00:23.702423Z"
    }
   },
   "cell_type": "code",
   "source": "good_ngrams_df.rename(columns={\"N-gram\": \"ngram\", \"Score\":\"score\"}, inplace=True)",
   "id": "639f9879f05836bb",
   "execution_count": 20,
   "outputs": []
  },
  {
   "metadata": {
    "ExecuteTime": {
     "end_time": "2025-04-15T08:00:35.798916Z",
     "start_time": "2025-04-15T08:00:35.781691Z"
    }
   },
   "cell_type": "code",
   "source": "bad_ngrams_df.head()",
   "id": "4a6b310e6400c6ee",
   "execution_count": 21,
   "outputs": []
  },
  {
   "metadata": {
    "ExecuteTime": {
     "end_time": "2025-04-15T08:00:45.463076Z",
     "start_time": "2025-04-15T08:00:45.448783Z"
    }
   },
   "cell_type": "code",
   "source": "bad_ngrams_df.rename(columns={\"N-gram\": \"ngram\", \"Score\":\"score\"}, inplace=True)",
   "id": "1399b5cc49a3560b",
   "execution_count": 22,
   "outputs": []
  },
  {
   "metadata": {
    "ExecuteTime": {
     "end_time": "2025-04-15T07:46:02.791993Z",
     "start_time": "2025-04-15T07:46:02.777953Z"
    }
   },
   "cell_type": "code",
   "source": "from google.genai import types",
   "id": "185d58fb7311380d",
   "execution_count": 15,
   "outputs": []
  },
  {
   "metadata": {
    "ExecuteTime": {
     "end_time": "2025-04-15T08:14:55.934866Z",
     "start_time": "2025-04-15T08:14:55.747813Z"
    }
   },
   "cell_type": "code",
   "source": [
    "train_samples = []\n",
    "\n",
    "# pick 5 rows from the dataframe\n",
    "dat = data.sample(n=5)\n",
    "for index, row in data.iterrows():\n",
    "    train_samples.append(types.TuningExample(\n",
    "            text_input=row[\"text\"],\n",
    "            output=row[\"label\"],\n",
    "            # good_ngrams=good_ngrams_df[\"ngram\"].tolist(),\n",
    "            # good_ngrams_scores=good_ngrams_df[\"score\"].tolist(),\n",
    "            # bad_ngrams=bad_ngrams_df[\"ngram\"].tolist(),\n",
    "            # bad_ngrams_scores=bad_ngrams_df[\"score\"].tolist(),\n",
    "        ))\n",
    "        \n",
    "        # ngrams_weights=good_ngrams_df[\"weight\"].tolist()\n",
    "    \n",
    "training_dataset = types.TuningDataset(examples=train_samples)"
   ],
   "id": "ec0dc885ed20b941",
   "execution_count": 40,
   "outputs": []
  },
  {
   "metadata": {
    "ExecuteTime": {
     "end_time": "2025-04-15T08:14:57.006907Z",
     "start_time": "2025-04-15T08:14:56.953845Z"
    }
   },
   "cell_type": "code",
   "source": "train_samples",
   "id": "8f35b9464ed244d0",
   "execution_count": 41,
   "outputs": []
  },
  {
   "metadata": {
    "ExecuteTime": {
     "end_time": "2025-04-15T08:15:02.139224Z",
     "start_time": "2025-04-15T08:15:02.123058Z"
    }
   },
   "cell_type": "code",
   "source": "train_dataset = types.TuningDataset(examples=train_samples)",
   "id": "c387cfddc62e8e15",
   "execution_count": 42,
   "outputs": []
  },
  {
   "metadata": {
    "ExecuteTime": {
     "end_time": "2025-04-15T08:12:34.467853Z",
     "start_time": "2025-04-15T08:12:34.455163Z"
    }
   },
   "cell_type": "code",
   "source": [
    "# TODO: how to use validation set\n",
    "# TODO: how to use test set\n",
    "# TODO: how to use metrics\n"
   ],
   "id": "3e3ab894e009e263",
   "execution_count": 37,
   "outputs": []
  },
  {
   "metadata": {
    "ExecuteTime": {
     "end_time": "2025-04-15T09:06:42.850126Z",
     "start_time": "2025-04-15T09:06:33.755370Z"
    }
   },
   "cell_type": "code",
   "source": [
    "model = \"models/gemini-1.5-flash-001-tuning\"\n",
    "# run the fine-tuning jog\n",
    "tuning_job = client.tunings.tune(\n",
    "    base_model='models/gemini-1.5-flash-001-tuning',\n",
    "    training_dataset=training_dataset,\n",
    "    config=types.CreateTuningJobConfig(\n",
    "        epoch_count= 5,\n",
    "        batch_size=4,\n",
    "        learning_rate=0.001,\n",
    "        tuned_model_display_name=\"test tuned model\"\n",
    "    )\n",
    ")\n"
   ],
   "id": "1adefd54e9c92804",
   "execution_count": 58,
   "outputs": []
  },
  {
   "metadata": {
    "ExecuteTime": {
     "end_time": "2025-04-15T09:07:00.365221Z",
     "start_time": "2025-04-15T09:07:00.350582Z"
    }
   },
   "cell_type": "code",
   "source": "tuning_job",
   "id": "ef6bee30ef8fd10a",
   "execution_count": 61,
   "outputs": []
  },
  {
   "metadata": {
    "ExecuteTime": {
     "end_time": "2025-04-15T09:06:44.807410Z",
     "start_time": "2025-04-15T09:06:44.791345Z"
    }
   },
   "cell_type": "code",
   "source": "print(f\"Training job: {train_job.name} \")\n",
   "id": "5c83280f7759e13c",
   "execution_count": 59,
   "outputs": []
  },
  {
   "metadata": {
    "ExecuteTime": {
     "end_time": "2025-04-15T09:07:26.484153Z",
     "start_time": "2025-04-15T09:07:26.453439Z"
    }
   },
   "cell_type": "code",
   "source": [
    "print(train_job.state)\n",
    "\n",
    "\n"
   ],
   "id": "22456ca42d3c08eb",
   "execution_count": 62,
   "outputs": []
  },
  {
   "metadata": {
    "ExecuteTime": {
     "end_time": "2025-04-15T09:07:32.917523Z",
     "start_time": "2025-04-15T09:07:32.863758Z"
    }
   },
   "cell_type": "code",
   "source": [
    "metrics = train_job.training_metrics\n",
    "print(metrics)\n"
   ],
   "id": "85dc6b9f71d37409",
   "execution_count": 63,
   "outputs": []
  },
  {
   "metadata": {
    "ExecuteTime": {
     "end_time": "2025-04-15T08:44:29.751389Z",
     "start_time": "2025-04-15T08:44:29.710514Z"
    }
   },
   "cell_type": "code",
   "source": "tuned_model = client.get_model(name=\"test tuned model\")\n",
   "id": "7bbee5e35127e9d4",
   "execution_count": 54,
   "outputs": []
  },
  {
   "metadata": {
    "ExecuteTime": {
     "end_time": "2025-04-15T09:05:47.770261Z",
     "start_time": "2025-04-15T09:05:47.732109Z"
    }
   },
   "cell_type": "code",
   "source": [
    "# generate content with the tuned model\n",
    "response = client.models.generate_content(\n",
    "    model=train_job.tuned_model.model,\n",
    "    contents='III',\n",
    ")\n",
    "\n",
    "print(response.text)"
   ],
   "id": "72db1678fb1750f4",
   "execution_count": 56,
   "outputs": []
  },
  {
   "metadata": {
    "ExecuteTime": {
     "end_time": "2025-04-15T08:42:48.917893Z",
     "start_time": "2025-04-15T08:42:48.871871Z"
    }
   },
   "cell_type": "code",
   "source": [
    "model_name = train_job.tuned_model.model# your custom model ID\n",
    "response = client.models.generate_content(\n",
    "    model=model_name,\n",
    "    contents=\"Why don't you just shut up and leave me alone?\"\n",
    ")\n",
    "print(response.text)\n"
   ],
   "id": "2a94014a5a1d2c42",
   "execution_count": 51,
   "outputs": []
  },
  {
   "metadata": {
    "ExecuteTime": {
     "end_time": "2025-04-15T09:07:49.473393Z",
     "start_time": "2025-04-15T09:07:48.604449Z"
    }
   },
   "cell_type": "code",
   "source": [
    "# create tuning model\n",
    "training_dataset =  [\n",
    "    [\"1\", \"2\"],\n",
    "    [\"3\", \"4\"],\n",
    "    [\"-3\", \"-2\"],\n",
    "    [\"twenty two\", \"twenty three\"],\n",
    "    [\"two hundred\", \"two hundred one\"],\n",
    "    [\"ninety nine\", \"one hundred\"],\n",
    "    [\"8\", \"9\"],\n",
    "    [\"-98\", \"-97\"],\n",
    "    [\"1,000\", \"1,001\"],\n",
    "    [\"10,100,000\", \"10,100,001\"],\n",
    "    [\"thirteen\", \"fourteen\"],\n",
    "    [\"eighty\", \"eighty one\"],\n",
    "    [\"one\", \"two\"],\n",
    "    [\"three\", \"four\"],\n",
    "    [\"seven\", \"eight\"],\n",
    "]\n",
    "training_dataset=types.TuningDataset(\n",
    "    examples=[\n",
    "        types.TuningExample(\n",
    "            text_input=i,\n",
    "            output=o,\n",
    "        )\n",
    "        for i,o in training_dataset\n",
    "    ],\n",
    ")\n",
    "tuning_job = client.tunings.tune(\n",
    "    base_model='models/gemini-1.5-flash-001-tuning',\n",
    "    training_dataset=training_dataset,\n",
    "    config=types.CreateTuningJobConfig(\n",
    "        epoch_count= 5,\n",
    "        batch_size=4,\n",
    "        learning_rate=0.001,\n",
    "        tuned_model_display_name=\"test tuned model\"\n",
    "    )\n",
    ")\n",
    "\n",
    "# generate content with the tuned model\n",
    "response = client.models.generate_content(\n",
    "    model=tuning_job.tuned_model.model,\n",
    "    contents='III',\n",
    ")\n",
    "\n",
    "print(response.text)"
   ],
   "id": "198a95073a358cf3",
   "execution_count": 64,
   "outputs": []
  },
  {
   "metadata": {},
   "cell_type": "code",
   "execution_count": null,
   "source": "",
   "id": "676962393dfc1f18",
   "outputs": []
  }
 ],
 "metadata": {
  "kernelspec": {
   "display_name": "Python 3",
   "language": "python",
   "name": "python3"
  },
  "language_info": {
   "codemirror_mode": {
    "name": "ipython",
    "version": 2
   },
   "file_extension": ".py",
   "mimetype": "text/x-python",
   "name": "python",
   "nbconvert_exporter": "python",
   "pygments_lexer": "ipython2",
   "version": "2.7.6"
  }
 },
 "nbformat": 4,
 "nbformat_minor": 5
}
